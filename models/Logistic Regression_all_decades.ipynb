{
 "cells": [
  {
   "cell_type": "code",
   "execution_count": 33,
   "metadata": {},
   "outputs": [],
   "source": [
    "%matplotlib inline\n",
    "import matplotlib.pyplot as plt\n",
    "import numpy as np\n",
    "import pandas as pd"
   ]
  },
  {
   "cell_type": "code",
   "execution_count": 34,
   "metadata": {},
   "outputs": [
    {
     "data": {
      "text/html": [
       "<div>\n",
       "<style scoped>\n",
       "    .dataframe tbody tr th:only-of-type {\n",
       "        vertical-align: middle;\n",
       "    }\n",
       "\n",
       "    .dataframe tbody tr th {\n",
       "        vertical-align: top;\n",
       "    }\n",
       "\n",
       "    .dataframe thead th {\n",
       "        text-align: right;\n",
       "    }\n",
       "</style>\n",
       "<table border=\"1\" class=\"dataframe\">\n",
       "  <thead>\n",
       "    <tr style=\"text-align: right;\">\n",
       "      <th></th>\n",
       "      <th>Unnamed: 0</th>\n",
       "      <th>url</th>\n",
       "      <th>WeekID</th>\n",
       "      <th>Week Position</th>\n",
       "      <th>Song_x</th>\n",
       "      <th>Performer_x</th>\n",
       "      <th>SongID</th>\n",
       "      <th>Instance</th>\n",
       "      <th>Previous Week Position</th>\n",
       "      <th>Peak Position</th>\n",
       "      <th>...</th>\n",
       "      <th>mode</th>\n",
       "      <th>speechiness</th>\n",
       "      <th>acousticness</th>\n",
       "      <th>instrumentalness</th>\n",
       "      <th>liveness</th>\n",
       "      <th>valence</th>\n",
       "      <th>tempo</th>\n",
       "      <th>time_signature</th>\n",
       "      <th>year</th>\n",
       "      <th>Decade</th>\n",
       "    </tr>\n",
       "  </thead>\n",
       "  <tbody>\n",
       "    <tr>\n",
       "      <td>0</td>\n",
       "      <td>1</td>\n",
       "      <td>http://www.billboard.com/charts/hot-100/2014-0...</td>\n",
       "      <td>3/22/2014</td>\n",
       "      <td>45</td>\n",
       "      <td>Sail</td>\n",
       "      <td>AWOLNATION</td>\n",
       "      <td>SailAWOLNATION</td>\n",
       "      <td>2</td>\n",
       "      <td>41.0</td>\n",
       "      <td>17</td>\n",
       "      <td>...</td>\n",
       "      <td>1.0</td>\n",
       "      <td>0.0568</td>\n",
       "      <td>0.452</td>\n",
       "      <td>0.609</td>\n",
       "      <td>0.0953</td>\n",
       "      <td>0.243</td>\n",
       "      <td>119.038</td>\n",
       "      <td>4.0</td>\n",
       "      <td>2014</td>\n",
       "      <td>2010s</td>\n",
       "    </tr>\n",
       "    <tr>\n",
       "      <td>1</td>\n",
       "      <td>2</td>\n",
       "      <td>http://www.billboard.com/charts/hot-100/2009-1...</td>\n",
       "      <td>10/10/2009</td>\n",
       "      <td>48</td>\n",
       "      <td>I'm Yours</td>\n",
       "      <td>Jason Mraz</td>\n",
       "      <td>I'm YoursJason Mraz</td>\n",
       "      <td>1</td>\n",
       "      <td>49.0</td>\n",
       "      <td>6</td>\n",
       "      <td>...</td>\n",
       "      <td>1.0</td>\n",
       "      <td>0.0468</td>\n",
       "      <td>0.595</td>\n",
       "      <td>0.000</td>\n",
       "      <td>0.1050</td>\n",
       "      <td>0.718</td>\n",
       "      <td>150.953</td>\n",
       "      <td>4.0</td>\n",
       "      <td>2009</td>\n",
       "      <td>2000s</td>\n",
       "    </tr>\n",
       "    <tr>\n",
       "      <td>2</td>\n",
       "      <td>3</td>\n",
       "      <td>http://www.billboard.com/charts/hot-100/1998-1...</td>\n",
       "      <td>10/10/1998</td>\n",
       "      <td>45</td>\n",
       "      <td>How Do I Live</td>\n",
       "      <td>LeAnn Rimes</td>\n",
       "      <td>How Do I LiveLeAnn Rimes</td>\n",
       "      <td>1</td>\n",
       "      <td>48.0</td>\n",
       "      <td>2</td>\n",
       "      <td>...</td>\n",
       "      <td>1.0</td>\n",
       "      <td>0.0279</td>\n",
       "      <td>0.128</td>\n",
       "      <td>0.000</td>\n",
       "      <td>0.0822</td>\n",
       "      <td>0.258</td>\n",
       "      <td>128.303</td>\n",
       "      <td>4.0</td>\n",
       "      <td>1998</td>\n",
       "      <td>1990s</td>\n",
       "    </tr>\n",
       "    <tr>\n",
       "      <td>3</td>\n",
       "      <td>6</td>\n",
       "      <td>http://www.billboard.com/charts/hot-100/2012-0...</td>\n",
       "      <td>4/14/2012</td>\n",
       "      <td>49</td>\n",
       "      <td>Rolling In The Deep</td>\n",
       "      <td>Adele</td>\n",
       "      <td>Rolling In The DeepAdele</td>\n",
       "      <td>2</td>\n",
       "      <td>43.0</td>\n",
       "      <td>1</td>\n",
       "      <td>...</td>\n",
       "      <td>1.0</td>\n",
       "      <td>0.0294</td>\n",
       "      <td>0.131</td>\n",
       "      <td>0.000</td>\n",
       "      <td>0.0527</td>\n",
       "      <td>0.522</td>\n",
       "      <td>104.945</td>\n",
       "      <td>4.0</td>\n",
       "      <td>2012</td>\n",
       "      <td>2010s</td>\n",
       "    </tr>\n",
       "    <tr>\n",
       "      <td>4</td>\n",
       "      <td>8</td>\n",
       "      <td>http://www.billboard.com/charts/hot-100/2007-1...</td>\n",
       "      <td>12/1/2007</td>\n",
       "      <td>47</td>\n",
       "      <td>Before He Cheats</td>\n",
       "      <td>Carrie Underwood</td>\n",
       "      <td>Before He CheatsCarrie Underwood</td>\n",
       "      <td>1</td>\n",
       "      <td>43.0</td>\n",
       "      <td>8</td>\n",
       "      <td>...</td>\n",
       "      <td>0.0</td>\n",
       "      <td>0.0405</td>\n",
       "      <td>0.271</td>\n",
       "      <td>0.000</td>\n",
       "      <td>0.1190</td>\n",
       "      <td>0.290</td>\n",
       "      <td>147.905</td>\n",
       "      <td>4.0</td>\n",
       "      <td>2007</td>\n",
       "      <td>2000s</td>\n",
       "    </tr>\n",
       "  </tbody>\n",
       "</table>\n",
       "<p>5 rows × 34 columns</p>\n",
       "</div>"
      ],
      "text/plain": [
       "   Unnamed: 0                                                url      WeekID  \\\n",
       "0           1  http://www.billboard.com/charts/hot-100/2014-0...   3/22/2014   \n",
       "1           2  http://www.billboard.com/charts/hot-100/2009-1...  10/10/2009   \n",
       "2           3  http://www.billboard.com/charts/hot-100/1998-1...  10/10/1998   \n",
       "3           6  http://www.billboard.com/charts/hot-100/2012-0...   4/14/2012   \n",
       "4           8  http://www.billboard.com/charts/hot-100/2007-1...   12/1/2007   \n",
       "\n",
       "   Week Position               Song_x       Performer_x  \\\n",
       "0             45                 Sail        AWOLNATION   \n",
       "1             48            I'm Yours        Jason Mraz   \n",
       "2             45        How Do I Live       LeAnn Rimes   \n",
       "3             49  Rolling In The Deep             Adele   \n",
       "4             47     Before He Cheats  Carrie Underwood   \n",
       "\n",
       "                             SongID  Instance  Previous Week Position  \\\n",
       "0                    SailAWOLNATION         2                    41.0   \n",
       "1               I'm YoursJason Mraz         1                    49.0   \n",
       "2          How Do I LiveLeAnn Rimes         1                    48.0   \n",
       "3          Rolling In The DeepAdele         2                    43.0   \n",
       "4  Before He CheatsCarrie Underwood         1                    43.0   \n",
       "\n",
       "   Peak Position  ...  mode speechiness acousticness instrumentalness  \\\n",
       "0             17  ...   1.0      0.0568        0.452            0.609   \n",
       "1              6  ...   1.0      0.0468        0.595            0.000   \n",
       "2              2  ...   1.0      0.0279        0.128            0.000   \n",
       "3              1  ...   1.0      0.0294        0.131            0.000   \n",
       "4              8  ...   0.0      0.0405        0.271            0.000   \n",
       "\n",
       "  liveness valence    tempo  time_signature  year  Decade  \n",
       "0   0.0953   0.243  119.038             4.0  2014   2010s  \n",
       "1   0.1050   0.718  150.953             4.0  2009   2000s  \n",
       "2   0.0822   0.258  128.303             4.0  1998   1990s  \n",
       "3   0.0527   0.522  104.945             4.0  2012   2010s  \n",
       "4   0.1190   0.290  147.905             4.0  2007   2000s  \n",
       "\n",
       "[5 rows x 34 columns]"
      ]
     },
     "execution_count": 34,
     "metadata": {},
     "output_type": "execute_result"
    }
   ],
   "source": [
    "spotify = pd.read_csv('decades.csv')\n",
    "spotify.head()"
   ]
  },
  {
   "cell_type": "code",
   "execution_count": null,
   "metadata": {},
   "outputs": [],
   "source": []
  },
  {
   "cell_type": "code",
   "execution_count": 35,
   "metadata": {},
   "outputs": [],
   "source": [
    "#Turning the column into categorical from numeric and changing to binary: Number1 and NotNumber1\n",
    "spotify['Peak Position'].mask(spotify['Peak Position'] == 1, 'Number1', inplace=True)"
   ]
  },
  {
   "cell_type": "code",
   "execution_count": 36,
   "metadata": {},
   "outputs": [],
   "source": [
    "spotify['Peak Position'].mask(spotify['Peak Position'] != 'Number1', 'NotNumber1', inplace=True)"
   ]
  },
  {
   "cell_type": "code",
   "execution_count": 51,
   "metadata": {},
   "outputs": [],
   "source": [
    "#Dropping columns we don't need for the model\n",
    "dropped = spotify.drop([\"Weeks on Chart\",\"year\", \"WeekID\", \"Unnamed: 0\", \"url\", \"spotify_track_id\", \"spotify_track_explicit\", \"Week Position\", \"Song_x\", \"Performer_x\", \"Instance\", \"Previous Week Position\", \"Performer_y\", \"Song_y\", \"spotify_genre\", \"spotify_track_preview_url\",\"spotify_track_album\", \"spotify_track_duration_ms\", \"Decade\", \"SongID\" ], axis=1)"
   ]
  },
  {
   "cell_type": "code",
   "execution_count": 52,
   "metadata": {},
   "outputs": [],
   "source": [
    "#Second drop of columns that had a low coeff_ score compared to other variables\n",
    "dropped2 =dropped.drop([\"key\", \"loudness\", \"mode\", \"acousticness\", \"instrumentalness\", \"liveness\", \"valence\", \"tempo\", \"time_signature\"], axis=1)"
   ]
  },
  {
   "cell_type": "code",
   "execution_count": 53,
   "metadata": {},
   "outputs": [
    {
     "data": {
      "text/html": [
       "<div>\n",
       "<style scoped>\n",
       "    .dataframe tbody tr th:only-of-type {\n",
       "        vertical-align: middle;\n",
       "    }\n",
       "\n",
       "    .dataframe tbody tr th {\n",
       "        vertical-align: top;\n",
       "    }\n",
       "\n",
       "    .dataframe thead th {\n",
       "        text-align: right;\n",
       "    }\n",
       "</style>\n",
       "<table border=\"1\" class=\"dataframe\">\n",
       "  <thead>\n",
       "    <tr style=\"text-align: right;\">\n",
       "      <th></th>\n",
       "      <th>Peak Position</th>\n",
       "      <th>spotify_track_popularity</th>\n",
       "      <th>danceability</th>\n",
       "      <th>energy</th>\n",
       "      <th>speechiness</th>\n",
       "    </tr>\n",
       "  </thead>\n",
       "  <tbody>\n",
       "    <tr>\n",
       "      <td>0</td>\n",
       "      <td>NotNumber1</td>\n",
       "      <td>74.0</td>\n",
       "      <td>0.825</td>\n",
       "      <td>0.435</td>\n",
       "      <td>0.0568</td>\n",
       "    </tr>\n",
       "    <tr>\n",
       "      <td>1</td>\n",
       "      <td>NotNumber1</td>\n",
       "      <td>83.0</td>\n",
       "      <td>0.686</td>\n",
       "      <td>0.457</td>\n",
       "      <td>0.0468</td>\n",
       "    </tr>\n",
       "    <tr>\n",
       "      <td>2</td>\n",
       "      <td>NotNumber1</td>\n",
       "      <td>68.0</td>\n",
       "      <td>0.577</td>\n",
       "      <td>0.462</td>\n",
       "      <td>0.0279</td>\n",
       "    </tr>\n",
       "    <tr>\n",
       "      <td>3</td>\n",
       "      <td>Number1</td>\n",
       "      <td>76.0</td>\n",
       "      <td>0.729</td>\n",
       "      <td>0.756</td>\n",
       "      <td>0.0294</td>\n",
       "    </tr>\n",
       "    <tr>\n",
       "      <td>4</td>\n",
       "      <td>NotNumber1</td>\n",
       "      <td>74.0</td>\n",
       "      <td>0.519</td>\n",
       "      <td>0.749</td>\n",
       "      <td>0.0405</td>\n",
       "    </tr>\n",
       "    <tr>\n",
       "      <td>...</td>\n",
       "      <td>...</td>\n",
       "      <td>...</td>\n",
       "      <td>...</td>\n",
       "      <td>...</td>\n",
       "      <td>...</td>\n",
       "    </tr>\n",
       "    <tr>\n",
       "      <td>10713</td>\n",
       "      <td>NotNumber1</td>\n",
       "      <td>64.0</td>\n",
       "      <td>0.884</td>\n",
       "      <td>0.814</td>\n",
       "      <td>0.3030</td>\n",
       "    </tr>\n",
       "    <tr>\n",
       "      <td>10714</td>\n",
       "      <td>NotNumber1</td>\n",
       "      <td>74.0</td>\n",
       "      <td>0.588</td>\n",
       "      <td>0.567</td>\n",
       "      <td>0.0628</td>\n",
       "    </tr>\n",
       "    <tr>\n",
       "      <td>10715</td>\n",
       "      <td>NotNumber1</td>\n",
       "      <td>71.0</td>\n",
       "      <td>0.643</td>\n",
       "      <td>0.503</td>\n",
       "      <td>0.2160</td>\n",
       "    </tr>\n",
       "    <tr>\n",
       "      <td>10716</td>\n",
       "      <td>NotNumber1</td>\n",
       "      <td>54.0</td>\n",
       "      <td>0.701</td>\n",
       "      <td>0.915</td>\n",
       "      <td>0.1280</td>\n",
       "    </tr>\n",
       "    <tr>\n",
       "      <td>10717</td>\n",
       "      <td>NotNumber1</td>\n",
       "      <td>80.0</td>\n",
       "      <td>0.702</td>\n",
       "      <td>0.708</td>\n",
       "      <td>0.0547</td>\n",
       "    </tr>\n",
       "  </tbody>\n",
       "</table>\n",
       "<p>10718 rows × 5 columns</p>\n",
       "</div>"
      ],
      "text/plain": [
       "      Peak Position  spotify_track_popularity  danceability  energy  \\\n",
       "0        NotNumber1                      74.0         0.825   0.435   \n",
       "1        NotNumber1                      83.0         0.686   0.457   \n",
       "2        NotNumber1                      68.0         0.577   0.462   \n",
       "3           Number1                      76.0         0.729   0.756   \n",
       "4        NotNumber1                      74.0         0.519   0.749   \n",
       "...             ...                       ...           ...     ...   \n",
       "10713    NotNumber1                      64.0         0.884   0.814   \n",
       "10714    NotNumber1                      74.0         0.588   0.567   \n",
       "10715    NotNumber1                      71.0         0.643   0.503   \n",
       "10716    NotNumber1                      54.0         0.701   0.915   \n",
       "10717    NotNumber1                      80.0         0.702   0.708   \n",
       "\n",
       "       speechiness  \n",
       "0           0.0568  \n",
       "1           0.0468  \n",
       "2           0.0279  \n",
       "3           0.0294  \n",
       "4           0.0405  \n",
       "...            ...  \n",
       "10713       0.3030  \n",
       "10714       0.0628  \n",
       "10715       0.2160  \n",
       "10716       0.1280  \n",
       "10717       0.0547  \n",
       "\n",
       "[10718 rows x 5 columns]"
      ]
     },
     "execution_count": 53,
     "metadata": {},
     "output_type": "execute_result"
    }
   ],
   "source": [
    "dropped2"
   ]
  },
  {
   "cell_type": "code",
   "execution_count": 54,
   "metadata": {},
   "outputs": [
    {
     "name": "stdout",
     "output_type": "stream",
     "text": [
      "(10718, 4) (10718,)\n"
     ]
    }
   ],
   "source": [
    "# Assign X (data) and y (target)\n",
    "X = dropped2.drop(\"Peak Position\", axis=1)\n",
    "y = dropped2[\"Peak Position\"]\n",
    "print(X.shape, y.shape)"
   ]
  },
  {
   "cell_type": "code",
   "execution_count": 55,
   "metadata": {},
   "outputs": [],
   "source": [
    "from sklearn.model_selection import train_test_split\n",
    "\n",
    "X_train, X_test, y_train, y_test = train_test_split(X, y, random_state=42, stratify=y)\n",
    "\n",
    "#This stratify parameter makes a split so that the proportion of values in the sample produced will be the same as\n",
    "#the proportion of values provided to parameter stratify.\n",
    "#For example, if variable y is a binary categorical variable with values 0 and 1 and there are 25% of zeros and 75% \n",
    "#of ones, stratify=y will make sure that your random split has 25% of 0's and 75% of 1's."
   ]
  },
  {
   "cell_type": "code",
   "execution_count": 56,
   "metadata": {},
   "outputs": [
    {
     "data": {
      "text/plain": [
       "LogisticRegression(C=1.0, class_weight=None, dual=False, fit_intercept=True,\n",
       "                   intercept_scaling=1, l1_ratio=None, max_iter=100,\n",
       "                   multi_class='warn', n_jobs=None, penalty='l2',\n",
       "                   random_state=None, solver='warn', tol=0.0001, verbose=0,\n",
       "                   warm_start=False)"
      ]
     },
     "execution_count": 56,
     "metadata": {},
     "output_type": "execute_result"
    }
   ],
   "source": [
    "from sklearn.linear_model import LogisticRegression\n",
    "classifier = LogisticRegression()\n",
    "classifier"
   ]
  },
  {
   "cell_type": "code",
   "execution_count": 57,
   "metadata": {},
   "outputs": [
    {
     "name": "stderr",
     "output_type": "stream",
     "text": [
      "/Users/davidlopez/anaconda3/envs/PythonWebMongo/lib/python3.6/site-packages/sklearn/linear_model/logistic.py:432: FutureWarning: Default solver will be changed to 'lbfgs' in 0.22. Specify a solver to silence this warning.\n",
      "  FutureWarning)\n"
     ]
    },
    {
     "data": {
      "text/plain": [
       "LogisticRegression(C=1.0, class_weight=None, dual=False, fit_intercept=True,\n",
       "                   intercept_scaling=1, l1_ratio=None, max_iter=100,\n",
       "                   multi_class='warn', n_jobs=None, penalty='l2',\n",
       "                   random_state=None, solver='warn', tol=0.0001, verbose=0,\n",
       "                   warm_start=False)"
      ]
     },
     "execution_count": 57,
     "metadata": {},
     "output_type": "execute_result"
    }
   ],
   "source": [
    "classifier.fit(X_train, y_train)"
   ]
  },
  {
   "cell_type": "code",
   "execution_count": 58,
   "metadata": {},
   "outputs": [
    {
     "name": "stdout",
     "output_type": "stream",
     "text": [
      "Training Data Score: 0.9548395123164967\n",
      "Testing Data Score: 0.9548507462686567\n"
     ]
    }
   ],
   "source": [
    "print(f\"Training Data Score: {classifier.score(X_train, y_train)}\")\n",
    "print(f\"Testing Data Score: {classifier.score(X_test, y_test)}\")"
   ]
  },
  {
   "cell_type": "code",
   "execution_count": 59,
   "metadata": {},
   "outputs": [
    {
     "name": "stdout",
     "output_type": "stream",
     "text": [
      "First 1000 Predictions:   ['NotNumber1' 'NotNumber1' 'NotNumber1' 'NotNumber1' 'NotNumber1'\n",
      " 'NotNumber1' 'NotNumber1' 'NotNumber1' 'NotNumber1' 'NotNumber1'\n",
      " 'NotNumber1' 'NotNumber1' 'NotNumber1' 'NotNumber1' 'NotNumber1'\n",
      " 'NotNumber1' 'NotNumber1' 'NotNumber1' 'NotNumber1' 'NotNumber1'\n",
      " 'NotNumber1' 'NotNumber1' 'NotNumber1' 'NotNumber1' 'NotNumber1'\n",
      " 'NotNumber1' 'NotNumber1' 'NotNumber1' 'NotNumber1' 'NotNumber1'\n",
      " 'NotNumber1' 'NotNumber1' 'NotNumber1' 'NotNumber1' 'NotNumber1'\n",
      " 'NotNumber1' 'NotNumber1' 'NotNumber1' 'NotNumber1' 'NotNumber1'\n",
      " 'NotNumber1' 'NotNumber1' 'NotNumber1' 'NotNumber1' 'NotNumber1'\n",
      " 'NotNumber1' 'NotNumber1' 'NotNumber1' 'NotNumber1' 'NotNumber1'\n",
      " 'NotNumber1' 'NotNumber1' 'NotNumber1' 'NotNumber1' 'NotNumber1'\n",
      " 'NotNumber1' 'NotNumber1' 'NotNumber1' 'NotNumber1' 'NotNumber1'\n",
      " 'NotNumber1' 'NotNumber1' 'NotNumber1' 'NotNumber1' 'NotNumber1'\n",
      " 'NotNumber1' 'NotNumber1' 'NotNumber1' 'NotNumber1' 'NotNumber1'\n",
      " 'NotNumber1' 'NotNumber1' 'NotNumber1' 'NotNumber1' 'NotNumber1'\n",
      " 'NotNumber1' 'NotNumber1' 'NotNumber1' 'NotNumber1' 'NotNumber1'\n",
      " 'NotNumber1' 'NotNumber1' 'NotNumber1' 'NotNumber1' 'NotNumber1'\n",
      " 'NotNumber1' 'NotNumber1' 'NotNumber1' 'NotNumber1' 'NotNumber1'\n",
      " 'NotNumber1' 'NotNumber1' 'NotNumber1' 'NotNumber1' 'NotNumber1'\n",
      " 'NotNumber1' 'NotNumber1' 'NotNumber1' 'NotNumber1' 'NotNumber1']\n",
      "First 1000 Actual labels: ['NotNumber1', 'NotNumber1', 'NotNumber1', 'NotNumber1', 'NotNumber1', 'NotNumber1', 'NotNumber1', 'NotNumber1', 'NotNumber1', 'NotNumber1', 'NotNumber1', 'NotNumber1', 'NotNumber1', 'NotNumber1', 'NotNumber1', 'NotNumber1', 'NotNumber1', 'NotNumber1', 'NotNumber1', 'NotNumber1', 'NotNumber1', 'NotNumber1', 'NotNumber1', 'NotNumber1', 'NotNumber1', 'NotNumber1', 'NotNumber1', 'NotNumber1', 'NotNumber1', 'NotNumber1', 'NotNumber1', 'NotNumber1', 'NotNumber1', 'NotNumber1', 'NotNumber1', 'NotNumber1', 'NotNumber1', 'Number1', 'NotNumber1', 'NotNumber1', 'NotNumber1', 'NotNumber1', 'NotNumber1', 'NotNumber1', 'Number1', 'NotNumber1', 'NotNumber1', 'NotNumber1', 'NotNumber1', 'NotNumber1', 'NotNumber1', 'NotNumber1', 'NotNumber1', 'NotNumber1', 'NotNumber1', 'NotNumber1', 'NotNumber1', 'NotNumber1', 'NotNumber1', 'NotNumber1', 'NotNumber1', 'NotNumber1', 'NotNumber1', 'NotNumber1', 'NotNumber1', 'NotNumber1', 'NotNumber1', 'NotNumber1', 'NotNumber1', 'NotNumber1', 'NotNumber1', 'NotNumber1', 'NotNumber1', 'Number1', 'NotNumber1', 'NotNumber1', 'NotNumber1', 'NotNumber1', 'NotNumber1', 'NotNumber1', 'NotNumber1', 'NotNumber1', 'NotNumber1', 'NotNumber1', 'NotNumber1', 'NotNumber1', 'NotNumber1', 'NotNumber1', 'NotNumber1', 'NotNumber1', 'NotNumber1', 'NotNumber1', 'NotNumber1', 'NotNumber1', 'NotNumber1', 'NotNumber1', 'NotNumber1', 'NotNumber1', 'NotNumber1', 'NotNumber1']\n"
     ]
    }
   ],
   "source": [
    "predictions = classifier.predict(X_test)\n",
    "print(f\"First 1000 Predictions:   {predictions[:100]}\")\n",
    "print(f\"First 1000 Actual labels: {y_test[:100].tolist()}\")"
   ]
  },
  {
   "cell_type": "code",
   "execution_count": 60,
   "metadata": {},
   "outputs": [],
   "source": [
    "DataFrame = pd.DataFrame({\"Prediction\": predictions, \"Actual\": y_test}).reset_index(drop=True)"
   ]
  },
  {
   "cell_type": "code",
   "execution_count": 61,
   "metadata": {},
   "outputs": [
    {
     "data": {
      "text/html": [
       "<div>\n",
       "<style scoped>\n",
       "    .dataframe tbody tr th:only-of-type {\n",
       "        vertical-align: middle;\n",
       "    }\n",
       "\n",
       "    .dataframe tbody tr th {\n",
       "        vertical-align: top;\n",
       "    }\n",
       "\n",
       "    .dataframe thead th {\n",
       "        text-align: right;\n",
       "    }\n",
       "</style>\n",
       "<table border=\"1\" class=\"dataframe\">\n",
       "  <thead>\n",
       "    <tr style=\"text-align: right;\">\n",
       "      <th></th>\n",
       "      <th>Prediction</th>\n",
       "      <th>Actual</th>\n",
       "    </tr>\n",
       "  </thead>\n",
       "  <tbody>\n",
       "    <tr>\n",
       "      <td>686</td>\n",
       "      <td>NotNumber1</td>\n",
       "      <td>Number1</td>\n",
       "    </tr>\n",
       "    <tr>\n",
       "      <td>143</td>\n",
       "      <td>NotNumber1</td>\n",
       "      <td>Number1</td>\n",
       "    </tr>\n",
       "    <tr>\n",
       "      <td>949</td>\n",
       "      <td>NotNumber1</td>\n",
       "      <td>Number1</td>\n",
       "    </tr>\n",
       "    <tr>\n",
       "      <td>943</td>\n",
       "      <td>NotNumber1</td>\n",
       "      <td>Number1</td>\n",
       "    </tr>\n",
       "    <tr>\n",
       "      <td>823</td>\n",
       "      <td>NotNumber1</td>\n",
       "      <td>Number1</td>\n",
       "    </tr>\n",
       "    <tr>\n",
       "      <td>...</td>\n",
       "      <td>...</td>\n",
       "      <td>...</td>\n",
       "    </tr>\n",
       "    <tr>\n",
       "      <td>918</td>\n",
       "      <td>NotNumber1</td>\n",
       "      <td>NotNumber1</td>\n",
       "    </tr>\n",
       "    <tr>\n",
       "      <td>919</td>\n",
       "      <td>NotNumber1</td>\n",
       "      <td>NotNumber1</td>\n",
       "    </tr>\n",
       "    <tr>\n",
       "      <td>920</td>\n",
       "      <td>NotNumber1</td>\n",
       "      <td>NotNumber1</td>\n",
       "    </tr>\n",
       "    <tr>\n",
       "      <td>921</td>\n",
       "      <td>NotNumber1</td>\n",
       "      <td>NotNumber1</td>\n",
       "    </tr>\n",
       "    <tr>\n",
       "      <td>2679</td>\n",
       "      <td>NotNumber1</td>\n",
       "      <td>NotNumber1</td>\n",
       "    </tr>\n",
       "  </tbody>\n",
       "</table>\n",
       "<p>2680 rows × 2 columns</p>\n",
       "</div>"
      ],
      "text/plain": [
       "      Prediction      Actual\n",
       "686   NotNumber1     Number1\n",
       "143   NotNumber1     Number1\n",
       "949   NotNumber1     Number1\n",
       "943   NotNumber1     Number1\n",
       "823   NotNumber1     Number1\n",
       "...          ...         ...\n",
       "918   NotNumber1  NotNumber1\n",
       "919   NotNumber1  NotNumber1\n",
       "920   NotNumber1  NotNumber1\n",
       "921   NotNumber1  NotNumber1\n",
       "2679  NotNumber1  NotNumber1\n",
       "\n",
       "[2680 rows x 2 columns]"
      ]
     },
     "execution_count": 61,
     "metadata": {},
     "output_type": "execute_result"
    }
   ],
   "source": [
    "DataFrame.sort_values(by = 'Actual', ascending=False)"
   ]
  },
  {
   "cell_type": "code",
   "execution_count": 62,
   "metadata": {},
   "outputs": [
    {
     "data": {
      "text/plain": [
       "array([[ 0.05687111,  0.1635753 , -1.80301587, -1.73977435]])"
      ]
     },
     "execution_count": 62,
     "metadata": {},
     "output_type": "execute_result"
    }
   ],
   "source": [
    "#These coefficients are in scientific notation 1.2e+01 would be 12, 1.2e+00 would be 1.2, 1.2e-01 would be 0.12\n",
    "classifier.coef_"
   ]
  },
  {
   "cell_type": "code",
   "execution_count": 63,
   "metadata": {},
   "outputs": [
    {
     "data": {
      "text/plain": [
       "NotNumber1    2680\n",
       "Name: Prediction, dtype: int64"
      ]
     },
     "execution_count": 63,
     "metadata": {},
     "output_type": "execute_result"
    }
   ],
   "source": [
    "DataFrame[\"Prediction\"].value_counts()"
   ]
  },
  {
   "cell_type": "code",
   "execution_count": 64,
   "metadata": {},
   "outputs": [
    {
     "data": {
      "text/plain": [
       "NotNumber1    2559\n",
       "Number1        121\n",
       "Name: Actual, dtype: int64"
      ]
     },
     "execution_count": 64,
     "metadata": {},
     "output_type": "execute_result"
    }
   ],
   "source": [
    "DataFrame[\"Actual\"].value_counts()"
   ]
  },
  {
   "cell_type": "code",
   "execution_count": null,
   "metadata": {},
   "outputs": [],
   "source": []
  },
  {
   "cell_type": "code",
   "execution_count": null,
   "metadata": {},
   "outputs": [],
   "source": []
  },
  {
   "cell_type": "code",
   "execution_count": null,
   "metadata": {},
   "outputs": [],
   "source": []
  }
 ],
 "metadata": {
  "kernelspec": {
   "display_name": "Python [conda env:pythonwebmongo]",
   "language": "python",
   "name": "conda-env-pythonwebmongo-py"
  },
  "language_info": {
   "codemirror_mode": {
    "name": "ipython",
    "version": 3
   },
   "file_extension": ".py",
   "mimetype": "text/x-python",
   "name": "python",
   "nbconvert_exporter": "python",
   "pygments_lexer": "ipython3",
   "version": "3.6.9"
  }
 },
 "nbformat": 4,
 "nbformat_minor": 2
}
